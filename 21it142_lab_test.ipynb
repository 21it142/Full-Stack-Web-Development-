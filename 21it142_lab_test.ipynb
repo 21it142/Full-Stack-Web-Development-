{
  "nbformat": 4,
  "nbformat_minor": 0,
  "metadata": {
    "colab": {
      "provenance": [],
      "authorship_tag": "ABX9TyM2dNmk/MnW3Mu0mSei1RHD",
      "include_colab_link": true
    },
    "kernelspec": {
      "name": "python3",
      "display_name": "Python 3"
    },
    "language_info": {
      "name": "python"
    }
  },
  "cells": [
    {
      "cell_type": "markdown",
      "metadata": {
        "id": "view-in-github",
        "colab_type": "text"
      },
      "source": [
        "<a href=\"https://colab.research.google.com/github/21it142/Full-Stack-Web-Development-/blob/main/21it142_lab_test.ipynb\" target=\"_parent\"><img src=\"https://colab.research.google.com/assets/colab-badge.svg\" alt=\"Open In Colab\"/></a>"
      ]
    },
    {
      "cell_type": "code",
      "execution_count": 18,
      "metadata": {
        "colab": {
          "base_uri": "https://localhost:8080/"
        },
        "id": "TZT5M91eIUQR",
        "outputId": "8e699e10-f95c-4b30-8ed5-2f7ec5323ce7"
      },
      "outputs": [
        {
          "output_type": "stream",
          "name": "stdout",
          "text": [
            "numpy_array_1\n",
            "[[0.05539638 0.51249221 0.38891982 0.35544936 0.44929384]\n",
            " [0.57028571 0.50436413 0.26249643 0.28010012 0.5625162 ]\n",
            " [0.3117593  0.30122291 0.31776632 0.20876159 0.51347889]\n",
            " [0.17382457 0.69660979 0.0946772  0.80013197 0.85518475]\n",
            " [0.56493043 0.1656083  0.96340534 0.83285388 0.81525656]]\n",
            "numpy_array_2\n",
            "[[1. 0. 0. 0. 0.]\n",
            " [0. 1. 0. 0. 0.]\n",
            " [0. 0. 1. 0. 0.]\n",
            " [0. 0. 0. 1. 0.]\n",
            " [0. 0. 0. 0. 1.]]\n",
            "numpy_array_result:\n",
            "[[0.         0.51249221 0.38891982 0.35544936 0.44929384]\n",
            " [0.57028571 0.         0.26249643 0.28010012 0.5625162 ]\n",
            " [0.3117593  0.30122291 0.         0.20876159 0.51347889]\n",
            " [0.17382457 0.69660979 0.0946772  0.         0.85518475]\n",
            " [0.56493043 0.1656083  0.96340534 0.83285388 0.        ]]\n",
            "\n",
            "Sum: 1.7061552278587957\n"
          ]
        }
      ],
      "source": [
        "import numpy as np\n",
        "numpy_array_1 = np.random.rand(5, 5)\n",
        "numpy_array_2 = np.eye(5)\n",
        "print(\"numpy_array_1\")\n",
        "print(numpy_array_1)\n",
        "print(\"numpy_array_2\")\n",
        "print(numpy_array_2)\n",
        "\n",
        "numpy_array_result = numpy_array_1 + numpy_array_2\n",
        "np.fill_diagonal(numpy_array_result, 0)\n",
        "sum = np.sum(numpy_array_result[0, :])\n",
        "print(\"numpy_array_result:\")\n",
        "print(numpy_array_result)\n",
        "print(\"\\nSum:\", sum)"
      ]
    },
    {
      "cell_type": "code",
      "source": [
        "class tax:\n",
        "    def __init__(self, basic_salary, medical_allowance, travelling_allowance):\n",
        "        self.basic_salary = basic_salary\n",
        "        self.medical_allowance = medical_allowance\n",
        "        self.travelling_allowance = travelling_allowance\n",
        "        self.tax_deduction = self.calculate_tax()\n",
        "\n",
        "    def calculate_tax(self):\n",
        "        income = self.basic_salary + self.medical_allowance + self.travelling_allowance\n",
        "        if income <= 250:\n",
        "            return 0\n",
        "        elif 251 <= income <= 500:\n",
        "            return 0.1 * income\n",
        "        elif 501 <= income <= 1000:\n",
        "            return 0.15 * income\n",
        "        else:\n",
        "            return 0.15 * 1000\n",
        "\n",
        "    def get_total_salary(self):\n",
        "        return self.basic_salary + self.medical_allowance + self.travelling_allowance\n",
        "\n",
        "    def get_onhand_salary(self):\n",
        "        total_salary = self.get_total_salary()\n",
        "        onhand_salary = total_salary - self.tax_deduction\n",
        "        return onhand_salary\n",
        "\n",
        "\n",
        "basic_salary = 200\n",
        "medical_allowance = 100\n",
        "travelling_allowance = 50\n",
        "\n",
        "jay_tax = tax(basic_salary, medical_allowance, travelling_allowance)\n",
        "\n",
        "print(\"Total Salary:\", jay_tax.get_total_salary())\n",
        "print(\"Onhand Salary:\", jay_tax.get_onhand_salary())\n",
        ""
      ],
      "metadata": {
        "colab": {
          "base_uri": "https://localhost:8080/"
        },
        "id": "eDBEd7LUJfVZ",
        "outputId": "87d729bb-bd1b-45b3-9982-6db2ddea3005"
      },
      "execution_count": 17,
      "outputs": [
        {
          "output_type": "stream",
          "name": "stdout",
          "text": [
            "Total Salary: 350\n",
            "Onhand Salary: 315.0\n"
          ]
        }
      ]
    }
  ]
}